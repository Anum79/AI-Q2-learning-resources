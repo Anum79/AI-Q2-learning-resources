{
  "nbformat": 4,
  "nbformat_minor": 0,
  "metadata": {
    "colab": {
      "name": "CNN_filters1.ipynb",
      "provenance": [],
      "authorship_tag": "ABX9TyPiijPZBnx3vM20+S5GBG7p",
      "include_colab_link": true
    },
    "kernelspec": {
      "name": "python3",
      "display_name": "Python 3"
    },
    "language_info": {
      "name": "python"
    }
  },
  "cells": [
    {
      "cell_type": "markdown",
      "metadata": {
        "id": "view-in-github",
        "colab_type": "text"
      },
      "source": [
        "<a href=\"https://colab.research.google.com/github/Anum79/AI-Q2-learning-resources/blob/master/CNN_filters1.ipynb\" target=\"_parent\"><img src=\"https://colab.research.google.com/assets/colab-badge.svg\" alt=\"Open In Colab\"/></a>"
      ]
    },
    {
      "cell_type": "code",
      "execution_count": 5,
      "metadata": {
        "id": "KuXOVo7ohLsD"
      },
      "outputs": [],
      "source": [
        "import numpy as np\n",
        "def conv_2d(A, kernel):\n",
        "  output = np.zeros([A.shape[0]-(kernel.shape[0]-1),\n",
        "                     A.shape[1]-(kernel.shape[0]-1)])\n",
        "  for row in range(1,A.shape[0]-1):\n",
        "    for column in range(1, A.shape[1]-1):\n",
        "      output[row-1, column-1] = np.tensordot(A[row-1:row+2, column-1:column+2], kernel)\n",
        "  return output"
      ]
    },
    {
      "cell_type": "code",
      "source": [
        "A = np.array([[1,2,3,4],[5,6,7,8],[9,10,11,12],[13,14,15,16]])\n",
        "K = np.array([[1,2,3],[4,5,6],[7,8,9]])\n",
        "print(conv_2d(A,K))"
      ],
      "metadata": {
        "colab": {
          "base_uri": "https://localhost:8080/"
        },
        "id": "0EgpOGe6hasN",
        "outputId": "8642cb9b-3ef4-426f-9dd0-fe2022699aac"
      },
      "execution_count": 6,
      "outputs": [
        {
          "output_type": "stream",
          "name": "stdout",
          "text": [
            "[[348. 393.]\n",
            " [528. 573.]]\n"
          ]
        }
      ]
    },
    {
      "cell_type": "code",
      "source": [
        "chessboard = np.zeros([8*20, 8*20])\n",
        "for row in range(0, 8):\n",
        "  for column in range (0, 8):\n",
        "    if ((column+8*row) % 2 == 1) and (row % 2 == 0):\n",
        "      chessboard[row*20:row*20+20,\n",
        "      column*20:column*20+20] = 1\n",
        "                 \n",
        "    elif ((column+8*row) % 2 == 0) and (row % 2 == 1):\n",
        "      chessboard[row*20:row*20+20,\n",
        "      column*20:column*20+20] = 1"
      ],
      "metadata": {
        "id": "W513m0w_iHAX"
      },
      "execution_count": 11,
      "outputs": []
    },
    {
      "cell_type": "code",
      "source": [
        "import matplotlib.pyplot as plt\n",
        "plt.imshow(chessboard)"
      ],
      "metadata": {
        "colab": {
          "base_uri": "https://localhost:8080/",
          "height": 286
        },
        "id": "Te65CAo1i1M1",
        "outputId": "c9e3ae1a-cedf-4acd-f46d-1f73ca402305"
      },
      "execution_count": 14,
      "outputs": [
        {
          "output_type": "execute_result",
          "data": {
            "text/plain": [
              "<matplotlib.image.AxesImage at 0x7f8ec2cd3f50>"
            ]
          },
          "metadata": {},
          "execution_count": 14
        },
        {
          "output_type": "display_data",
          "data": {
            "text/plain": [
              "<Figure size 432x288 with 1 Axes>"
            ],
            "image/png": "[encoded data removed]"
          },
          "metadata": {
            "needs_background": "light"
          }
        }
      ]
    },
    {
      "cell_type": "code",
      "source": [
        "edgeh = np.matrix('1 1 1; 0 0 0; -1 -1 -1')\n",
        "outputh = conv_2d (chessboard, edgeh)"
      ],
      "metadata": {
        "id": "TRVQbFRckRRz"
      },
      "execution_count": 15,
      "outputs": []
    },
    {
      "cell_type": "code",
      "source": [
        "import matplotlib.pyplot as plt\n",
        "plt.imshow(outputh)"
      ],
      "metadata": {
        "colab": {
          "base_uri": "https://localhost:8080/",
          "height": 286
        },
        "id": "Vm25GrgalKe6",
        "outputId": "87f762ea-45cd-4ce7-85d0-6c9776f9f53d"
      },
      "execution_count": 17,
      "outputs": [
        {
          "output_type": "execute_result",
          "data": {
            "text/plain": [
              "<matplotlib.image.AxesImage at 0x7f8ec271d890>"
            ]
          },
          "metadata": {},
          "execution_count": 17
        },
        {
          "output_type": "display_data",
          "data": {
            "text/plain": [
              "<Figure size 432x288 with 1 Axes>"
            ],
            "image/png": "[encoded data removed]"
          },
          "metadata": {
            "needs_background": "light"
          }
        }
      ]
    },
    {
      "cell_type": "code",
      "source": [
        "edgev = np.matrix('1 0 -1; 1 0 -1; 1 0 -1')\n",
        "outputv = conv_2d (chessboard, edgev)"
      ],
      "metadata": {
        "id": "MytfiP1FlPgR"
      },
      "execution_count": 18,
      "outputs": []
    },
    {
      "cell_type": "code",
      "source": [
        "plt.imshow(outputv)"
      ],
      "metadata": {
        "colab": {
          "base_uri": "https://localhost:8080/",
          "height": 286
        },
        "id": "5eZggdSVlrTy",
        "outputId": "dba2ddf3-4c2c-4140-d070-9be6a945eed3"
      },
      "execution_count": 20,
      "outputs": [
        {
          "output_type": "execute_result",
          "data": {
            "text/plain": [
              "<matplotlib.image.AxesImage at 0x7f8ec2610510>"
            ]
          },
          "metadata": {},
          "execution_count": 20
        },
        {
          "output_type": "display_data",
          "data": {
            "text/plain": [
              "<Figure size 432x288 with 1 Axes>"
            ],
            "image/png": "[encoded data removed]"
          },
          "metadata": {
            "needs_background": "light"
          }
        }
      ]
    },
    {
      "cell_type": "code",
      "source": [
        "edgel = np.matrix ('-1 -1 -1; -1 8 -1; -1 -1 -1')\n",
        "outputl = conv_2d (chessboard, edgel)"
      ],
      "metadata": {
        "id": "6mtIh6vAlx1m"
      },
      "execution_count": 21,
      "outputs": []
    },
    {
      "cell_type": "code",
      "source": [
        "plt.imshow(outputl)"
      ],
      "metadata": {
        "colab": {
          "base_uri": "https://localhost:8080/",
          "height": 286
        },
        "id": "XUn2mIZhmOAy",
        "outputId": "0dca450a-d89d-434c-d118-abdd318f90d1"
      },
      "execution_count": 25,
      "outputs": [
        {
          "output_type": "execute_result",
          "data": {
            "text/plain": [
              "<matplotlib.image.AxesImage at 0x7f8ec2476250>"
            ]
          },
          "metadata": {},
          "execution_count": 25
        },
        {
          "output_type": "display_data",
          "data": {
            "text/plain": [
              "<Figure size 432x288 with 1 Axes>"
            ],
            "image/png": "[encoded data removed]"
          },
          "metadata": {
            "needs_background": "light"
          }
        }
      ]
    },
    {
      "cell_type": "code",
      "source": [
        "edge_blur = -1.0/9.0*np.matrix('1 1 1; 1 1 1; 1 1 1')\n",
        "output_blur = conv_2d (chessboard, edge_blur)"
      ],
      "metadata": {
        "id": "3jWVYtPLmAU-"
      },
      "execution_count": 26,
      "outputs": []
    },
    {
      "cell_type": "code",
      "source": [
        "plt.imshow(output_blur)"
      ],
      "metadata": {
        "colab": {
          "base_uri": "https://localhost:8080/",
          "height": 286
        },
        "id": "D7lMxNefm1F9",
        "outputId": "435e99fb-84fc-45fd-cebd-21ce995e81db"
      },
      "execution_count": 27,
      "outputs": [
        {
          "output_type": "execute_result",
          "data": {
            "text/plain": [
              "<matplotlib.image.AxesImage at 0x7f8ec23e3f50>"
            ]
          },
          "metadata": {},
          "execution_count": 27
        },
        {
          "output_type": "display_data",
          "data": {
            "text/plain": [
              "<Figure size 432x288 with 1 Axes>"
            ],
            "image/png": "[encoded data removed]"
          },
          "metadata": {
            "needs_background": "light"
          }
        }
      ]
    },
    {
      "cell_type": "code",
      "source": [
        ""
      ],
      "metadata": {
        "id": "ZtFEKOH0m7uR"
      },
      "execution_count": null,
      "outputs": []
    }
  ]
}